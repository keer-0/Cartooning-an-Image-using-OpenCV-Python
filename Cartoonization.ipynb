{
 "cells": [
  {
   "cell_type": "code",
   "execution_count": 1,
   "metadata": {},
   "outputs": [],
   "source": [
    "import cv2\n",
    "import numpy as np"
   ]
  },
  {
   "cell_type": "code",
   "execution_count": 2,
   "metadata": {},
   "outputs": [
    {
     "name": "stdout",
     "output_type": "stream",
     "text": [
      "(855, 600, 3)\n"
     ]
    }
   ],
   "source": [
    "num_down = 2\n",
    "\n",
    "num_bilateral = 7\n",
    "\n",
    "img_rgb = cv2.imread(\"Panda.jpg\")\n",
    "\n",
    "print(img_rgb.shape)"
   ]
  },
  {
   "cell_type": "code",
   "execution_count": 3,
   "metadata": {},
   "outputs": [],
   "source": [
    "img_rgb = cv2.resize(img_rgb,(800,800))\n",
    "img_color = img_rgb\n",
    "\n",
    "for _ in range(num_down):\n",
    "    img_color = cv2.pyrDown(img_color)\n",
    "\n",
    "for _ in range(num_bilateral):\n",
    "    img_color = cv2.bilateralFilter(img_color,d=9,sigmaColor=9,sigmaSpace=7)"
   ]
  },
  {
   "cell_type": "code",
   "execution_count": 4,
   "metadata": {},
   "outputs": [],
   "source": [
    "for _ in range(num_down):\n",
    "    img_color = cv2.pyrUp(img_color)\n",
    "img_gray = cv2.cvtColor(img_rgb, cv2.COLOR_RGB2GRAY)\n",
    "\n",
    "img_blur = cv2.medianBlur(img_gray, 7)\n",
    "\n",
    "img_edge = cv2.adaptiveThreshold(img_blur,255,cv2.ADAPTIVE_THRESH_MEAN_C,cv2.THRESH_BINARY,blockSize=9,C=2)"
   ]
  },
  {
   "cell_type": "code",
   "execution_count": 5,
   "metadata": {},
   "outputs": [],
   "source": [
    "#x,y,z = img_color.shape \n",
    "#img_edge = cv2.resize(img_edge,(y,x))  \n",
    "\n",
    "img_edge = cv2.cvtColor(img_edge, cv2.COLOR_GRAY2RGB) \n",
    "\n",
    "#img_edge = cv2.cvtColor(img_edge, cv2.COLOR_GRAY2RGB)\n",
    "\n",
    "img_cartoon = cv2.bitwise_and(img_color,img_edge)\n"
   ]
  },
  {
   "cell_type": "code",
   "execution_count": null,
   "metadata": {},
   "outputs": [],
   "source": [
    "stack = np.hstack([img_rgb,img_cartoon])\n",
    "\n",
    "cv2.imshow('Stacked Images',stack)\n",
    "\n",
    "cv2.waitKey(0) \n",
    "\n",
    "cv2.destroyAllWindows() "
   ]
  },
  {
   "cell_type": "code",
   "execution_count": null,
   "metadata": {},
   "outputs": [],
   "source": []
  }
 ],
 "metadata": {
  "kernelspec": {
   "display_name": "Python 3",
   "language": "python",
   "name": "python3"
  },
  "language_info": {
   "codemirror_mode": {
    "name": "ipython",
    "version": 3
   },
   "file_extension": ".py",
   "mimetype": "text/x-python",
   "name": "python",
   "nbconvert_exporter": "python",
   "pygments_lexer": "ipython3",
   "version": "3.6.10"
  }
 },
 "nbformat": 4,
 "nbformat_minor": 4
}
